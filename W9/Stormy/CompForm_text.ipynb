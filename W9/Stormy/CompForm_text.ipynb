{
 "cells": [
  {
   "cell_type": "code",
   "execution_count": 1,
   "id": "f9e1eb85",
   "metadata": {
    "scrolled": true
   },
   "outputs": [
    {
     "name": "stdout",
     "output_type": "stream",
     "text": [
      "Requirement already satisfied: openai in /Users/chooseimage/opt/anaconda3/lib/python3.9/site-packages (0.14.0)\n",
      "Requirement already satisfied: tqdm in /Users/chooseimage/opt/anaconda3/lib/python3.9/site-packages (from openai) (4.62.3)\n",
      "Requirement already satisfied: pandas-stubs>=1.1.0.11 in /Users/chooseimage/opt/anaconda3/lib/python3.9/site-packages (from openai) (1.2.0.43)\n",
      "Requirement already satisfied: pandas>=1.2.3 in /Users/chooseimage/opt/anaconda3/lib/python3.9/site-packages (from openai) (1.3.4)\n",
      "Requirement already satisfied: openpyxl>=3.0.7 in /Users/chooseimage/opt/anaconda3/lib/python3.9/site-packages (from openai) (3.0.9)\n",
      "Requirement already satisfied: requests>=2.20 in /Users/chooseimage/opt/anaconda3/lib/python3.9/site-packages (from openai) (2.26.0)\n",
      "Requirement already satisfied: et-xmlfile in /Users/chooseimage/opt/anaconda3/lib/python3.9/site-packages (from openpyxl>=3.0.7->openai) (1.1.0)\n",
      "Requirement already satisfied: python-dateutil>=2.7.3 in /Users/chooseimage/opt/anaconda3/lib/python3.9/site-packages (from pandas>=1.2.3->openai) (2.8.2)\n",
      "Requirement already satisfied: pytz>=2017.3 in /Users/chooseimage/opt/anaconda3/lib/python3.9/site-packages (from pandas>=1.2.3->openai) (2021.3)\n",
      "Requirement already satisfied: numpy>=1.17.3 in /Users/chooseimage/opt/anaconda3/lib/python3.9/site-packages (from pandas>=1.2.3->openai) (1.20.3)\n",
      "Requirement already satisfied: six>=1.5 in /Users/chooseimage/opt/anaconda3/lib/python3.9/site-packages (from python-dateutil>=2.7.3->pandas>=1.2.3->openai) (1.16.0)\n",
      "Requirement already satisfied: certifi>=2017.4.17 in /Users/chooseimage/opt/anaconda3/lib/python3.9/site-packages (from requests>=2.20->openai) (2021.10.8)\n",
      "Requirement already satisfied: urllib3<1.27,>=1.21.1 in /Users/chooseimage/opt/anaconda3/lib/python3.9/site-packages (from requests>=2.20->openai) (1.26.7)\n",
      "Requirement already satisfied: idna<4,>=2.5 in /Users/chooseimage/opt/anaconda3/lib/python3.9/site-packages (from requests>=2.20->openai) (3.2)\n",
      "Requirement already satisfied: charset-normalizer~=2.0.0 in /Users/chooseimage/opt/anaconda3/lib/python3.9/site-packages (from requests>=2.20->openai) (2.0.4)\n",
      "Note: you may need to restart the kernel to use updated packages.\n"
     ]
    }
   ],
   "source": [
    "pip install openai"
   ]
  },
  {
   "cell_type": "code",
   "execution_count": 18,
   "id": "aa4b86f3",
   "metadata": {},
   "outputs": [],
   "source": [
    "model = \"MY_CUSTOM_MODEL\"\n",
    "#prompt = \"The middle of the room is taken up by a huge round table At the lower edge there are shelves which seem to reach the infinite and to be without number. At the far end of the room there is a small door.\"\n",
    "prompt = \"It was a dark and stormy night.\"\n",
    "tokens = 500\n",
    "temperature = 0.5\n",
    "n =3\n",
    "top_p = 0.6   # Percentage of top probabilities comprised\n",
    "echo = False  # Echo back the prompt in addition to the completion\n",
    "presence_penalty = 0.8 # [-2., 2.] The Higher the more likelyhood to generate new topics"
   ]
  },
  {
   "cell_type": "code",
   "execution_count": 3,
   "id": "1c5fea83",
   "metadata": {},
   "outputs": [],
   "source": [
    "def CleanText(result):\n",
    "    text = result.choices[0].text.replace(\"\\n\\n###\\n\\n\", \"\")\n",
    "    text1 = result.choices[1].text.replace(\"\\n\\n###\\n\\n\", \"\")\n",
    "    text2 = result.choices[2].text.replace(\"\\n\\n###\\n\\n\", \"\")\n",
    "    return \"1:\\n\" + prompt+text+\"\\n\"+\"2:\\n\"+prompt+text1+\"\\n\"+\"3:\\n\"+prompt+text2"
   ]
  },
  {
   "cell_type": "code",
   "execution_count": 6,
   "id": "55fe3f87",
   "metadata": {},
   "outputs": [],
   "source": [
    "import os\n",
    "import openai\n",
    "\n",
    "# Load your API key from an environment variable or secret management service\n",
    "openai.api_key = \"MY_API_KEY\""
   ]
  },
  {
   "cell_type": "code",
   "execution_count": 19,
   "id": "ca03d98a",
   "metadata": {},
   "outputs": [],
   "source": [
    "result = openai.Completion.create(\n",
    "    model= model,\n",
    "    prompt=prompt,\n",
    "    max_tokens = tokens,\n",
    "    #temperature = temperature,\n",
    "    top_p = top_p,\n",
    "    echo = echo,\n",
    "    presence_penalty = presence_penalty,\n",
    "    n=n)"
   ]
  },
  {
   "cell_type": "code",
   "execution_count": 20,
   "id": "0492583a",
   "metadata": {
    "scrolled": true
   },
   "outputs": [
    {
     "name": "stdout",
     "output_type": "stream",
     "text": [
      "1:\n",
      "It was a dark and stormy night. The wind was howling and the rain was pummeling the windows. The scene was set for a truly dismal evening. The stormy weather would have certainly kept me from seeing the cinematic masterpiece that was to be on display in my very own living room. But it was not to be. For this storm had been orchestrated by the great puppet master himself. And he had called me his muse. I had been selected for this film because of my talent and my gift of gab.”\n",
      "\n",
      "*** “Mmm-hmm.”***\n",
      "\n",
      "*** “Yes.”***\n",
      "\n",
      "*** “OK.”***\n",
      "\n",
      "*** “I am here to tell you the story of how I came to be here. You see***—”***\n",
      "\n",
      "*** “No***—”***\n",
      "\n",
      "*** “I will be brief. It is not important. I am certain you are very busy.”***\n",
      "\n",
      "*** “No***—”***\n",
      "\n",
      "*** “Please***—”***\n",
      "\n",
      "*** “OK***—”***\n",
      "\n",
      "*** “The puppets are called marionettes. They are made of wood. This is what we call them in the business.”***\n",
      "\n",
      "*** “OK.”***\n",
      "\n",
      "*** “The puppeteer manipulates the strings attached to the marionette’s arms and head. This is called controlling the marionette. The puppeteer is not the marionette. The puppeteer is not even in the same universe as the marionette.”***\n",
      "\n",
      "*** “I see.”***\n",
      "\n",
      "*** “And this is the genius of the puppet-maker. He or she has created a world where the puppeteer is not needed. Where the puppeteer does not exist. This is the most brilliant aspect of the puppet-maker’s work.”***\n",
      "\n",
      "*** “OK.”***\n",
      "\n",
      "*** “The puppeteer is in control.”***\n",
      "\n",
      "*** “OK.”***\n",
      "\n",
      "*** “In any event***—”***\n",
      "\n",
      "*** “But I can’t read about it. I can’t even watch it. I’m just not smart enough.”***\n",
      "\n",
      "***\n",
      "2:\n",
      "It was a dark and stormy night. A sudden flash of lightning illuminated the room. A second later a thunderclap shook the house. The old man was startled. “What was that?” he said.\n",
      "\n",
      "“That was lightning striking the ground in the distance.”\n",
      "\n",
      "“I see.”\n",
      "\n",
      "“Are you cold?”\n",
      "\n",
      "“No.”\n",
      "\n",
      "“You should get a sweater.”\n",
      "\n",
      "“I’m fine.”\n",
      "\n",
      "“Well then.”\n",
      "\n",
      "“Yes?”\n",
      "\n",
      "“Good night.”\n",
      "\n",
      "“Good night.”\n",
      "\n",
      "She waits for him to leave. When he doesn’t she gets up and puts on her robe. She switches off the light and sits in the dark. It is pitch black. She can’t see anything. She wonders if she should turn on a light. She doesn’t want to wake him. She waits. She waits some more. Then she gets up and turns on the light. She makes her way to the bed. She lies down. He is asleep. She looks at him. He is beautiful. His face is peaceful. She stares at him. She stares some more. She begins to weep. She can’t remember the last time she wept. Her heart is heavy. She wants to say something. Anything. She tries to think of the right thing to say. He stirs. She looks away. He sits up.\n",
      "\n",
      "“What’s wrong?” he says.\n",
      "\n",
      "“Nothing.”\n",
      "\n",
      "“Did I wake you?”\n",
      "\n",
      "“No.”\n",
      "\n",
      "“Good.”\n",
      "\n",
      "“How was your day?”\n",
      "\n",
      "“Fine.”\n",
      "\n",
      "“Did you read the book?”\n",
      "\n",
      "“No.”\n",
      "\n",
      "“Oh.”\n",
      "\n",
      "“Why didn’t you read it?”\n",
      "\n",
      "“I don’t know.”\n",
      "\n",
      "“Well—”\n",
      "\n",
      "“What’s wrong?”\n",
      "\n",
      "“Nothing.”\n",
      "\n",
      "“Tell me.”\n",
      "\n",
      "“I don’t want to bother you.”\n",
      "\n",
      "\n",
      "3:\n",
      "It was a dark and stormy night. Chapter 45*** “I’m fine*** just tired. I have a lot on my mind.”*** “Is there anything I can do to help?”*** “No. I’m fine.”*** “All right. Well*** I guess I’ll see you tomorrow.”*** “Yes. Tomorrow.”*** “OK. Good night.”*** “Good night.”*** And she closes the door.*** I sit in the dark for a long time. Finally I get up and turn on the light. I am still wearing my white doctor’s coat. I take it off and hang it in the closet. I put on a robe and sit on the bed. There is a box of tissues on the night table. I pick them all up and stuff them into my pocket. I think about her leaving. I think about what might have happened if she had stayed. What would we have done? Would we have made love? Would she have let me make love to her? Would she have wanted me to make love to her? I think about her pussy. I imagine it is soft and warm and wet. I imagine running my tongue over her lips and into her mouth. I imagine sliding my tongue into her vagina. I imagine pushing my tongue deep into her. I imagine sucking on her clit. I imagine sucking on her clit until she comes. I imagine her legs wrapped around my head as she comes. I imagine that her nipples are hard and poking into my cheeks. I imagine she is moaning. I imagine she is bucking against my face. I imagine she is calling my name. I imagine she is telling me how good it feels. I imagine she is cumming. I imagine she is cumming hard. I imagine she is cumming for me. I imagine she is cumming for me because she wants to please me. I imagine she is cumming because she loves me. I imagine she is cumming because she needs to cum. I imagine she is cumming because she has never felt anything like this before. I imagine she is cumming because she needs to cum. I imagine she is cumming because she wants to cum. I imagine she is cumming because she needs to cum. I imagine she is cumming because she needs to cum. I imagine she is cumming\n"
     ]
    }
   ],
   "source": [
    "print(CleanText(result))"
   ]
  },
  {
   "cell_type": "code",
   "execution_count": 27,
   "id": "7ad1baf9",
   "metadata": {},
   "outputs": [
    {
     "name": "stdout",
     "output_type": "stream",
     "text": [
      " The wind was howling and the rain was pummeling the windows. The scene was set for a truly dismal evening. The stormy weather would have certainly kept me from seeing the cinematic masterpiece that was to be on display in my very own living room. But it was not to be. For this storm had been orchestrated by the great puppet master himself. And he had called me his muse. I had been selected for this film because of my talent and my gift of gab.”\n",
      "\n",
      " “Mmm-hmm.”\n",
      "\n",
      " “Yes.”\n",
      "\n",
      " “OK.”\n",
      "\n",
      " “I am here to tell you the story of how I came to be here. You see—”\n",
      "\n",
      " “No—”\n",
      "\n",
      " “I will be brief. It is not important. I am certain you are very busy.”\n",
      "\n",
      " “No—”\n",
      "\n",
      " “Please—”\n",
      "\n",
      " “OK—”\n",
      "\n",
      " “The puppets are called marionettes. They are made of wood. This is what we call them in the business.”\n",
      "\n",
      " “OK.”\n",
      "\n",
      " “The puppeteer manipulates the strings attached to the marionette’s arms and head. This is called controlling the marionette. The puppeteer is not the marionette. The puppeteer is not even in the same universe as the marionette.”\n",
      "\n",
      " “I see.”\n",
      "\n",
      " “And this is the genius of the puppet-maker. He or she has created a world where the puppeteer is not needed. Where the puppeteer does not exist. This is the most brilliant aspect of the puppet-maker’s work.”\n",
      "\n",
      " “OK.”\n",
      "\n",
      " “The puppeteer is in control.”\n",
      "\n",
      " “OK.”\n",
      "\n",
      " “In any event—”\n",
      "\n",
      " “But I can’t read about it. I can’t even watch it. I’m just not smart enough.”\n",
      "\n",
      "\n"
     ]
    }
   ],
   "source": [
    "print(result.choices[0].text.replace('***', \"\"))"
   ]
  }
 ],
 "metadata": {
  "kernelspec": {
   "display_name": "Python 3 (ipykernel)",
   "language": "python",
   "name": "python3"
  },
  "language_info": {
   "codemirror_mode": {
    "name": "ipython",
    "version": 3
   },
   "file_extension": ".py",
   "mimetype": "text/x-python",
   "name": "python",
   "nbconvert_exporter": "python",
   "pygments_lexer": "ipython3",
   "version": "3.9.7"
  }
 },
 "nbformat": 4,
 "nbformat_minor": 5
}
